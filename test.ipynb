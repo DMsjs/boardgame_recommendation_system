{
 "cells": [
  {
   "cell_type": "code",
   "execution_count": 2,
   "metadata": {},
   "outputs": [],
   "source": [
    "import pandas as pd\n",
    "import numpy as np\n",
    "import streamlit as st"
   ]
  },
  {
   "cell_type": "code",
   "execution_count": 6,
   "metadata": {},
   "outputs": [],
   "source": [
    "basic_data_old = pd.read_csv(\"./data/2020-08-19.csv\")"
   ]
  },
  {
   "cell_type": "code",
   "execution_count": 8,
   "metadata": {},
   "outputs": [
    {
     "data": {
      "text/plain": [
       "Index(['Unnamed: 0', 'ID', 'Name', 'Year', 'Rank', 'Average', 'Bayes average',\n",
       "       'Users rated', 'URL', 'Thumbnail'],\n",
       "      dtype='object')"
      ]
     },
     "execution_count": 8,
     "metadata": {},
     "output_type": "execute_result"
    }
   ],
   "source": [
    "basic_data_old.columns"
   ]
  },
  {
   "cell_type": "code",
   "execution_count": 11,
   "metadata": {},
   "outputs": [],
   "source": [
    "basic_data_old = basic_data_old.drop(['Unnamed: 0'], axis=1)"
   ]
  },
  {
   "cell_type": "code",
   "execution_count": 22,
   "metadata": {},
   "outputs": [
    {
     "data": {
      "text/html": [
       "<div>\n",
       "<style scoped>\n",
       "    .dataframe tbody tr th:only-of-type {\n",
       "        vertical-align: middle;\n",
       "    }\n",
       "\n",
       "    .dataframe tbody tr th {\n",
       "        vertical-align: top;\n",
       "    }\n",
       "\n",
       "    .dataframe thead th {\n",
       "        text-align: right;\n",
       "    }\n",
       "</style>\n",
       "<table border=\"1\" class=\"dataframe\">\n",
       "  <thead>\n",
       "    <tr style=\"text-align: right;\">\n",
       "      <th></th>\n",
       "      <th>ID</th>\n",
       "      <th>Name</th>\n",
       "      <th>Year</th>\n",
       "      <th>Rank</th>\n",
       "      <th>Average</th>\n",
       "      <th>Bayes average</th>\n",
       "      <th>Users rated</th>\n",
       "      <th>URL</th>\n",
       "      <th>Thumbnail</th>\n",
       "    </tr>\n",
       "  </thead>\n",
       "  <tbody>\n",
       "    <tr>\n",
       "      <th>187</th>\n",
       "      <td>188</td>\n",
       "      <td>Go</td>\n",
       "      <td>2200</td>\n",
       "      <td>162</td>\n",
       "      <td>7.63</td>\n",
       "      <td>7.330</td>\n",
       "      <td>14296</td>\n",
       "      <td>/boardgame/188/go</td>\n",
       "      <td>https://cf.geekdo-images.com/micro/img/ncEmbZZ...</td>\n",
       "    </tr>\n",
       "    <tr>\n",
       "      <th>266</th>\n",
       "      <td>2397</td>\n",
       "      <td>Backgammon</td>\n",
       "      <td>3000</td>\n",
       "      <td>1238</td>\n",
       "      <td>6.54</td>\n",
       "      <td>6.365</td>\n",
       "      <td>11209</td>\n",
       "      <td>/boardgame/2397/backgammon</td>\n",
       "      <td>https://cf.geekdo-images.com/micro/img/bWZaJZy...</td>\n",
       "    </tr>\n",
       "    <tr>\n",
       "      <th>3408</th>\n",
       "      <td>2399</td>\n",
       "      <td>Senet</td>\n",
       "      <td>3500</td>\n",
       "      <td>7716</td>\n",
       "      <td>5.85</td>\n",
       "      <td>5.580</td>\n",
       "      <td>633</td>\n",
       "      <td>/boardgame/2399/senet</td>\n",
       "      <td>https://cf.geekdo-images.com/micro/img/RMaALim...</td>\n",
       "    </tr>\n",
       "    <tr>\n",
       "      <th>4019</th>\n",
       "      <td>1602</td>\n",
       "      <td>The Royal Game of Ur</td>\n",
       "      <td>2600</td>\n",
       "      <td>11666</td>\n",
       "      <td>5.79</td>\n",
       "      <td>5.531</td>\n",
       "      <td>498</td>\n",
       "      <td>/boardgame/1602/royal-game-ur</td>\n",
       "      <td>https://cf.geekdo-images.com/micro/img/zVHynFA...</td>\n",
       "    </tr>\n",
       "    <tr>\n",
       "      <th>4363</th>\n",
       "      <td>5546</td>\n",
       "      <td>Marbles</td>\n",
       "      <td>3000</td>\n",
       "      <td>19207</td>\n",
       "      <td>4.69</td>\n",
       "      <td>5.310</td>\n",
       "      <td>440</td>\n",
       "      <td>/boardgame/5546/marbles</td>\n",
       "      <td>https://cf.geekdo-images.com/micro/img/15uQaqV...</td>\n",
       "    </tr>\n",
       "  </tbody>\n",
       "</table>\n",
       "</div>"
      ],
      "text/plain": [
       "        ID                  Name  Year   Rank  Average  Bayes average  \\\n",
       "187    188                    Go  2200    162     7.63          7.330   \n",
       "266   2397            Backgammon  3000   1238     6.54          6.365   \n",
       "3408  2399                 Senet  3500   7716     5.85          5.580   \n",
       "4019  1602  The Royal Game of Ur  2600  11666     5.79          5.531   \n",
       "4363  5546               Marbles  3000  19207     4.69          5.310   \n",
       "\n",
       "      Users rated                            URL  \\\n",
       "187         14296              /boardgame/188/go   \n",
       "266         11209     /boardgame/2397/backgammon   \n",
       "3408          633          /boardgame/2399/senet   \n",
       "4019          498  /boardgame/1602/royal-game-ur   \n",
       "4363          440        /boardgame/5546/marbles   \n",
       "\n",
       "                                              Thumbnail  \n",
       "187   https://cf.geekdo-images.com/micro/img/ncEmbZZ...  \n",
       "266   https://cf.geekdo-images.com/micro/img/bWZaJZy...  \n",
       "3408  https://cf.geekdo-images.com/micro/img/RMaALim...  \n",
       "4019  https://cf.geekdo-images.com/micro/img/zVHynFA...  \n",
       "4363  https://cf.geekdo-images.com/micro/img/15uQaqV...  "
      ]
     },
     "execution_count": 22,
     "metadata": {},
     "output_type": "execute_result"
    }
   ],
   "source": [
    "basic_data_old[basic_data_old['Year']>2022]"
   ]
  },
  {
   "cell_type": "code",
   "execution_count": 18,
   "metadata": {},
   "outputs": [
    {
     "data": {
      "text/html": [
       "<div>\n",
       "<style scoped>\n",
       "    .dataframe tbody tr th:only-of-type {\n",
       "        vertical-align: middle;\n",
       "    }\n",
       "\n",
       "    .dataframe tbody tr th {\n",
       "        vertical-align: top;\n",
       "    }\n",
       "\n",
       "    .dataframe thead th {\n",
       "        text-align: right;\n",
       "    }\n",
       "</style>\n",
       "<table border=\"1\" class=\"dataframe\">\n",
       "  <thead>\n",
       "    <tr style=\"text-align: right;\">\n",
       "      <th></th>\n",
       "      <th>ID</th>\n",
       "      <th>Name</th>\n",
       "      <th>Year</th>\n",
       "      <th>Rank</th>\n",
       "      <th>Average</th>\n",
       "      <th>Bayes average</th>\n",
       "      <th>Users rated</th>\n",
       "      <th>URL</th>\n",
       "      <th>Thumbnail</th>\n",
       "    </tr>\n",
       "  </thead>\n",
       "  <tbody>\n",
       "    <tr>\n",
       "      <th>0</th>\n",
       "      <td>30549</td>\n",
       "      <td>Pandemic</td>\n",
       "      <td>2008</td>\n",
       "      <td>91</td>\n",
       "      <td>7.62</td>\n",
       "      <td>7.518</td>\n",
       "      <td>96186</td>\n",
       "      <td>/boardgame/30549/pandemic</td>\n",
       "      <td>https://cf.geekdo-images.com/micro/img/0m3-oqB...</td>\n",
       "    </tr>\n",
       "    <tr>\n",
       "      <th>1</th>\n",
       "      <td>822</td>\n",
       "      <td>Carcassonne</td>\n",
       "      <td>2000</td>\n",
       "      <td>173</td>\n",
       "      <td>7.42</td>\n",
       "      <td>7.311</td>\n",
       "      <td>96181</td>\n",
       "      <td>/boardgame/822/carcassonne</td>\n",
       "      <td>https://cf.geekdo-images.com/micro/img/z0tTaij...</td>\n",
       "    </tr>\n",
       "    <tr>\n",
       "      <th>2</th>\n",
       "      <td>13</td>\n",
       "      <td>Catan</td>\n",
       "      <td>1995</td>\n",
       "      <td>381</td>\n",
       "      <td>7.16</td>\n",
       "      <td>7.001</td>\n",
       "      <td>96171</td>\n",
       "      <td>/boardgame/13/catan</td>\n",
       "      <td>https://cf.geekdo-images.com/micro/img/e0y6Bog...</td>\n",
       "    </tr>\n",
       "    <tr>\n",
       "      <th>3</th>\n",
       "      <td>68448</td>\n",
       "      <td>7 Wonders</td>\n",
       "      <td>2010</td>\n",
       "      <td>50</td>\n",
       "      <td>7.76</td>\n",
       "      <td>7.662</td>\n",
       "      <td>79830</td>\n",
       "      <td>/boardgame/68448/7-wonders</td>\n",
       "      <td>https://cf.geekdo-images.com/micro/img/h-Ejv31...</td>\n",
       "    </tr>\n",
       "    <tr>\n",
       "      <th>4</th>\n",
       "      <td>36218</td>\n",
       "      <td>Dominion</td>\n",
       "      <td>2008</td>\n",
       "      <td>88</td>\n",
       "      <td>7.63</td>\n",
       "      <td>7.521</td>\n",
       "      <td>74933</td>\n",
       "      <td>/boardgame/36218/dominion</td>\n",
       "      <td>https://cf.geekdo-images.com/micro/img/VYp2s2f...</td>\n",
       "    </tr>\n",
       "    <tr>\n",
       "      <th>...</th>\n",
       "      <td>...</td>\n",
       "      <td>...</td>\n",
       "      <td>...</td>\n",
       "      <td>...</td>\n",
       "      <td>...</td>\n",
       "      <td>...</td>\n",
       "      <td>...</td>\n",
       "      <td>...</td>\n",
       "      <td>...</td>\n",
       "    </tr>\n",
       "    <tr>\n",
       "      <th>19325</th>\n",
       "      <td>246345</td>\n",
       "      <td>Ninja Rush</td>\n",
       "      <td>2018</td>\n",
       "      <td>16924</td>\n",
       "      <td>5.08</td>\n",
       "      <td>5.490</td>\n",
       "      <td>30</td>\n",
       "      <td>/boardgame/246345/ninja-rush</td>\n",
       "      <td>https://cf.geekdo-images.com/micro/img/eCp8Pcd...</td>\n",
       "    </tr>\n",
       "    <tr>\n",
       "      <th>19326</th>\n",
       "      <td>195623</td>\n",
       "      <td>Politricks: Dirty Card Game</td>\n",
       "      <td>2016</td>\n",
       "      <td>13932</td>\n",
       "      <td>6.72</td>\n",
       "      <td>5.515</td>\n",
       "      <td>30</td>\n",
       "      <td>/boardgame/195623/politricks-dirty-card-game</td>\n",
       "      <td>https://cf.geekdo-images.com/micro/img/ZelpOfR...</td>\n",
       "    </tr>\n",
       "    <tr>\n",
       "      <th>19327</th>\n",
       "      <td>235943</td>\n",
       "      <td>Doppel X</td>\n",
       "      <td>2017</td>\n",
       "      <td>16639</td>\n",
       "      <td>5.17</td>\n",
       "      <td>5.493</td>\n",
       "      <td>30</td>\n",
       "      <td>/boardgame/235943/doppel-x</td>\n",
       "      <td>https://cf.geekdo-images.com/micro/img/qHru7Fq...</td>\n",
       "    </tr>\n",
       "    <tr>\n",
       "      <th>19328</th>\n",
       "      <td>284862</td>\n",
       "      <td>Beasty Borders</td>\n",
       "      <td>2019</td>\n",
       "      <td>13933</td>\n",
       "      <td>6.20</td>\n",
       "      <td>5.515</td>\n",
       "      <td>30</td>\n",
       "      <td>/boardgame/284862/beasty-borders</td>\n",
       "      <td>https://cf.geekdo-images.com/micro/img/Hh4I7CE...</td>\n",
       "    </tr>\n",
       "    <tr>\n",
       "      <th>19329</th>\n",
       "      <td>281515</td>\n",
       "      <td>Company of Heroes</td>\n",
       "      <td>2020</td>\n",
       "      <td>12883</td>\n",
       "      <td>9.13</td>\n",
       "      <td>5.522</td>\n",
       "      <td>30</td>\n",
       "      <td>/boardgame/281515/company-heroes</td>\n",
       "      <td>https://cf.geekdo-images.com/micro/img/GwbfAhw...</td>\n",
       "    </tr>\n",
       "  </tbody>\n",
       "</table>\n",
       "<p>19330 rows × 9 columns</p>\n",
       "</div>"
      ],
      "text/plain": [
       "           ID                         Name  Year   Rank  Average  \\\n",
       "0       30549                     Pandemic  2008     91     7.62   \n",
       "1         822                  Carcassonne  2000    173     7.42   \n",
       "2          13                        Catan  1995    381     7.16   \n",
       "3       68448                    7 Wonders  2010     50     7.76   \n",
       "4       36218                     Dominion  2008     88     7.63   \n",
       "...       ...                          ...   ...    ...      ...   \n",
       "19325  246345                   Ninja Rush  2018  16924     5.08   \n",
       "19326  195623  Politricks: Dirty Card Game  2016  13932     6.72   \n",
       "19327  235943                     Doppel X  2017  16639     5.17   \n",
       "19328  284862               Beasty Borders  2019  13933     6.20   \n",
       "19329  281515            Company of Heroes  2020  12883     9.13   \n",
       "\n",
       "       Bayes average  Users rated  \\\n",
       "0              7.518        96186   \n",
       "1              7.311        96181   \n",
       "2              7.001        96171   \n",
       "3              7.662        79830   \n",
       "4              7.521        74933   \n",
       "...              ...          ...   \n",
       "19325          5.490           30   \n",
       "19326          5.515           30   \n",
       "19327          5.493           30   \n",
       "19328          5.515           30   \n",
       "19329          5.522           30   \n",
       "\n",
       "                                                URL  \\\n",
       "0                         /boardgame/30549/pandemic   \n",
       "1                        /boardgame/822/carcassonne   \n",
       "2                               /boardgame/13/catan   \n",
       "3                        /boardgame/68448/7-wonders   \n",
       "4                         /boardgame/36218/dominion   \n",
       "...                                             ...   \n",
       "19325                  /boardgame/246345/ninja-rush   \n",
       "19326  /boardgame/195623/politricks-dirty-card-game   \n",
       "19327                    /boardgame/235943/doppel-x   \n",
       "19328              /boardgame/284862/beasty-borders   \n",
       "19329              /boardgame/281515/company-heroes   \n",
       "\n",
       "                                               Thumbnail  \n",
       "0      https://cf.geekdo-images.com/micro/img/0m3-oqB...  \n",
       "1      https://cf.geekdo-images.com/micro/img/z0tTaij...  \n",
       "2      https://cf.geekdo-images.com/micro/img/e0y6Bog...  \n",
       "3      https://cf.geekdo-images.com/micro/img/h-Ejv31...  \n",
       "4      https://cf.geekdo-images.com/micro/img/VYp2s2f...  \n",
       "...                                                  ...  \n",
       "19325  https://cf.geekdo-images.com/micro/img/eCp8Pcd...  \n",
       "19326  https://cf.geekdo-images.com/micro/img/ZelpOfR...  \n",
       "19327  https://cf.geekdo-images.com/micro/img/qHru7Fq...  \n",
       "19328  https://cf.geekdo-images.com/micro/img/Hh4I7CE...  \n",
       "19329  https://cf.geekdo-images.com/micro/img/GwbfAhw...  \n",
       "\n",
       "[19330 rows x 9 columns]"
      ]
     },
     "execution_count": 18,
     "metadata": {},
     "output_type": "execute_result"
    }
   ],
   "source": [
    "basic_data_old[(basic_data_old['Average']>=0) & (basic_data_old['Average']<=10)]"
   ]
  },
  {
   "cell_type": "code",
   "execution_count": 1,
   "metadata": {},
   "outputs": [],
   "source": [
    "import csv"
   ]
  },
  {
   "cell_type": "code",
   "execution_count": null,
   "metadata": {},
   "outputs": [],
   "source": [
    "a = 1"
   ]
  },
  {
   "cell_type": "code",
   "execution_count": 1,
   "metadata": {},
   "outputs": [
    {
     "name": "stderr",
     "output_type": "stream",
     "text": [
      "/home/sungbae/.local/share/virtualenvs/boardgame_recommendation_system-f-GT0dhu/lib/python3.9/site-packages/fuzzywuzzy/fuzz.py:11: UserWarning: Using slow pure-python SequenceMatcher. Install python-Levenshtein to remove this warning\n",
      "  warnings.warn('Using slow pure-python SequenceMatcher. Install python-Levenshtein to remove this warning')\n"
     ]
    }
   ],
   "source": [
    "from fuzzywuzzy import process"
   ]
  },
  {
   "cell_type": "code",
   "execution_count": 2,
   "metadata": {},
   "outputs": [],
   "source": [
    "input_string = 'game'\n",
    "name_list = ['game', 'name', 'id', 'list']"
   ]
  },
  {
   "cell_type": "code",
   "execution_count": 3,
   "metadata": {},
   "outputs": [],
   "source": [
    "results = process.extract(input_string, name_list, limit = 5)"
   ]
  },
  {
   "cell_type": "code",
   "execution_count": 8,
   "metadata": {},
   "outputs": [
    {
     "data": {
      "text/plain": [
       "('game', 100)"
      ]
     },
     "execution_count": 8,
     "metadata": {},
     "output_type": "execute_result"
    }
   ],
   "source": [
    "results[0]"
   ]
  },
  {
   "cell_type": "code",
   "execution_count": 10,
   "metadata": {},
   "outputs": [
    {
     "data": {
      "text/plain": [
       "str"
      ]
     },
     "execution_count": 10,
     "metadata": {},
     "output_type": "execute_result"
    }
   ],
   "source": [
    "type(results[0][0])"
   ]
  },
  {
   "cell_type": "code",
   "execution_count": 11,
   "metadata": {},
   "outputs": [
    {
     "name": "stdout",
     "output_type": "stream",
     "text": [
      "name: game\n",
      "name: name\n",
      "name: id\n",
      "name: list\n"
     ]
    }
   ],
   "source": [
    "for name, score in results:\n",
    "    print('name:',name)"
   ]
  },
  {
   "cell_type": "code",
   "execution_count": 25,
   "metadata": {},
   "outputs": [],
   "source": [
    "import pandas as pd\n",
    "\n",
    "df = pd.DataFrame({'id':[100,200,300,400], 'name':name_list})"
   ]
  },
  {
   "cell_type": "code",
   "execution_count": 29,
   "metadata": {},
   "outputs": [
    {
     "data": {
      "text/html": [
       "<div>\n",
       "<style scoped>\n",
       "    .dataframe tbody tr th:only-of-type {\n",
       "        vertical-align: middle;\n",
       "    }\n",
       "\n",
       "    .dataframe tbody tr th {\n",
       "        vertical-align: top;\n",
       "    }\n",
       "\n",
       "    .dataframe thead th {\n",
       "        text-align: right;\n",
       "    }\n",
       "</style>\n",
       "<table border=\"1\" class=\"dataframe\">\n",
       "  <thead>\n",
       "    <tr style=\"text-align: right;\">\n",
       "      <th></th>\n",
       "      <th>id</th>\n",
       "      <th>name</th>\n",
       "    </tr>\n",
       "  </thead>\n",
       "  <tbody>\n",
       "    <tr>\n",
       "      <th>0</th>\n",
       "      <td>100</td>\n",
       "      <td>game</td>\n",
       "    </tr>\n",
       "    <tr>\n",
       "      <th>1</th>\n",
       "      <td>200</td>\n",
       "      <td>name</td>\n",
       "    </tr>\n",
       "    <tr>\n",
       "      <th>2</th>\n",
       "      <td>300</td>\n",
       "      <td>id</td>\n",
       "    </tr>\n",
       "    <tr>\n",
       "      <th>3</th>\n",
       "      <td>400</td>\n",
       "      <td>list</td>\n",
       "    </tr>\n",
       "  </tbody>\n",
       "</table>\n",
       "</div>"
      ],
      "text/plain": [
       "    id  name\n",
       "0  100  game\n",
       "1  200  name\n",
       "2  300    id\n",
       "3  400  list"
      ]
     },
     "execution_count": 29,
     "metadata": {},
     "output_type": "execute_result"
    }
   ],
   "source": [
    "df"
   ]
  },
  {
   "cell_type": "code",
   "execution_count": 57,
   "metadata": {},
   "outputs": [
    {
     "data": {
      "text/plain": [
       "[{'id': 100, 'name': 'game'}, {'id': 200, 'name': 'name'}]"
      ]
     },
     "execution_count": 57,
     "metadata": {},
     "output_type": "execute_result"
    }
   ],
   "source": [
    "df[df['id']<300].to_dict(orient='records')"
   ]
  },
  {
   "cell_type": "code",
   "execution_count": 58,
   "metadata": {},
   "outputs": [],
   "source": [
    "test = []\n",
    "for i in df[df['id']<300].to_dict(orient='records'):\n",
    "    test.append(i['id'])"
   ]
  },
  {
   "cell_type": "code",
   "execution_count": 59,
   "metadata": {},
   "outputs": [
    {
     "data": {
      "text/plain": [
       "[100, 200]"
      ]
     },
     "execution_count": 59,
     "metadata": {},
     "output_type": "execute_result"
    }
   ],
   "source": [
    "test"
   ]
  },
  {
   "cell_type": "code",
   "execution_count": 16,
   "metadata": {},
   "outputs": [],
   "source": [
    "dic = {'df':'a', '2':'b'}\n"
   ]
  },
  {
   "cell_type": "code",
   "execution_count": 18,
   "metadata": {},
   "outputs": [
    {
     "data": {
      "text/plain": [
       "['1', '2']"
      ]
     },
     "execution_count": 18,
     "metadata": {},
     "output_type": "execute_result"
    }
   ],
   "source": [
    "list(dic.keys())"
   ]
  },
  {
   "cell_type": "code",
   "execution_count": 60,
   "metadata": {},
   "outputs": [],
   "source": [
    "import requests"
   ]
  },
  {
   "cell_type": "code",
   "execution_count": 65,
   "metadata": {},
   "outputs": [],
   "source": [
    "top100_id_list = requests.get('http://127.0.0.1:5000/api?data-source=detailed-data&game-id=30549')"
   ]
  },
  {
   "cell_type": "code",
   "execution_count": 66,
   "metadata": {},
   "outputs": [
    {
     "data": {
      "text/plain": [
       "dict"
      ]
     },
     "execution_count": 66,
     "metadata": {},
     "output_type": "execute_result"
    }
   ],
   "source": [
    "type(top100_id_list.json())"
   ]
  },
  {
   "cell_type": "code",
   "execution_count": 78,
   "metadata": {},
   "outputs": [],
   "source": [
    "from pyarrow import csv"
   ]
  },
  {
   "cell_type": "code",
   "execution_count": 130,
   "metadata": {},
   "outputs": [],
   "source": [
    "detailed_data = csv.read_csv('./data/games_detailed_info.csv').to_pandas()\n",
    "basic_data_new = csv.read_csv('./data/2022-01-08.csv').to_pandas()"
   ]
  },
  {
   "cell_type": "code",
   "execution_count": 200,
   "metadata": {},
   "outputs": [],
   "source": [
    "def rank_to_int(x):\n",
    "    if x.isdigit():\n",
    "        return int(x)\n",
    "    else:\n",
    "        return 1000000"
   ]
  },
  {
   "cell_type": "code",
   "execution_count": 217,
   "metadata": {},
   "outputs": [
    {
     "name": "stdout",
     "output_type": "stream",
     "text": [
      "7      https://cf.geekdo-images.com/wg9oOLcsKvDesSUdZ...\n",
      "26     https://cf.geekdo-images.com/sZYp_3BTDGjh2unaZ...\n",
      "28     https://cf.geekdo-images.com/-Qer2BBPG7qGGDu6K...\n",
      "98     https://cf.geekdo-images.com/x3zxjr-Vw5iU4yDPg...\n",
      "199    https://cf.geekdo-images.com/_Ppn5lssO5OaildSE...\n",
      "Name: image, dtype: object\n"
     ]
    }
   ],
   "source": [
    "print(detailed_data['image'][detailed_data['Board Game Rank'].apply(rank_to_int)<=5])"
   ]
  },
  {
   "cell_type": "code",
   "execution_count": 184,
   "metadata": {},
   "outputs": [],
   "source": [
    "reivew_data = csv.read_csv('./data/bgg-19m-reviews.csv').to_pandas()"
   ]
  },
  {
   "cell_type": "code",
   "execution_count": 190,
   "metadata": {},
   "outputs": [],
   "source": [
    "dd = requests.get('http://127.0.0.1:5000/api?data-source=review-data-new&game-id='+str(30549)+'&content=comment')"
   ]
  },
  {
   "cell_type": "code",
   "execution_count": 209,
   "metadata": {},
   "outputs": [
    {
     "data": {
      "text/plain": [
       "'<!doctype html>\\n<html lang=en>\\n<title>500 Internal Server Error</title>\\n<h1>Internal Server Error</h1>\\n<p>The server encountered an internal error and was unable to complete your request. Either the server is overloaded or there is an error in the application.</p>\\n'"
      ]
     },
     "execution_count": 209,
     "metadata": {},
     "output_type": "execute_result"
    }
   ],
   "source": [
    "requests.get('http://127.0.0.1:5000/api?data-source=basic-data-new?game-id='+str(30549)+'&content=Name').text"
   ]
  },
  {
   "cell_type": "code",
   "execution_count": 95,
   "metadata": {},
   "outputs": [],
   "source": [
    "result_dict = requests.get('http://127.0.0.1:5000/name_id_dict?mode=name-id').json()"
   ]
  },
  {
   "cell_type": "code",
   "execution_count": 101,
   "metadata": {},
   "outputs": [
    {
     "data": {
      "text/html": [
       "<div>\n",
       "<style scoped>\n",
       "    .dataframe tbody tr th:only-of-type {\n",
       "        vertical-align: middle;\n",
       "    }\n",
       "\n",
       "    .dataframe tbody tr th {\n",
       "        vertical-align: top;\n",
       "    }\n",
       "\n",
       "    .dataframe thead th {\n",
       "        text-align: right;\n",
       "    }\n",
       "</style>\n",
       "<table border=\"1\" class=\"dataframe\">\n",
       "  <thead>\n",
       "    <tr style=\"text-align: right;\">\n",
       "      <th></th>\n",
       "      <th>id</th>\n",
       "      <th>name</th>\n",
       "    </tr>\n",
       "  </thead>\n",
       "  <tbody>\n",
       "    <tr>\n",
       "      <th>0</th>\n",
       "      <td>\"La Garde recule!\"</td>\n",
       "      <td>[122711]</td>\n",
       "    </tr>\n",
       "    <tr>\n",
       "      <th>1</th>\n",
       "      <td>\"Oh My God! There's An Axe In My Head.\" The Ga...</td>\n",
       "      <td>[23304]</td>\n",
       "    </tr>\n",
       "    <tr>\n",
       "      <th>2</th>\n",
       "      <td>\"Scratch One Flat Top!\"</td>\n",
       "      <td>[4016]</td>\n",
       "    </tr>\n",
       "    <tr>\n",
       "      <th>3</th>\n",
       "      <td>\"Tarleton's Quarter!\"</td>\n",
       "      <td>[38836]</td>\n",
       "    </tr>\n",
       "    <tr>\n",
       "      <th>4</th>\n",
       "      <td>#MyLife</td>\n",
       "      <td>[286535]</td>\n",
       "    </tr>\n",
       "    <tr>\n",
       "      <th>...</th>\n",
       "      <td>...</td>\n",
       "      <td>...</td>\n",
       "    </tr>\n",
       "    <tr>\n",
       "      <th>21427</th>\n",
       "      <td>曼荼羅 (Mandara)</td>\n",
       "      <td>[189218]</td>\n",
       "    </tr>\n",
       "    <tr>\n",
       "      <th>21428</th>\n",
       "      <td>猿道 (Monkey Road)</td>\n",
       "      <td>[177572]</td>\n",
       "    </tr>\n",
       "    <tr>\n",
       "      <th>21429</th>\n",
       "      <td>白と黒でトリテ (Trick-Taking in Black and White)</td>\n",
       "      <td>[335467]</td>\n",
       "    </tr>\n",
       "    <tr>\n",
       "      <th>21430</th>\n",
       "      <td>目撃者たちの夜 (Witness Night)</td>\n",
       "      <td>[308238]</td>\n",
       "    </tr>\n",
       "    <tr>\n",
       "      <th>21431</th>\n",
       "      <td>聖杯サクセション (Throne and the Grail)</td>\n",
       "      <td>[216497]</td>\n",
       "    </tr>\n",
       "  </tbody>\n",
       "</table>\n",
       "<p>21432 rows × 2 columns</p>\n",
       "</div>"
      ],
      "text/plain": [
       "                                                      id      name\n",
       "0                                     \"La Garde recule!\"  [122711]\n",
       "1      \"Oh My God! There's An Axe In My Head.\" The Ga...   [23304]\n",
       "2                                \"Scratch One Flat Top!\"    [4016]\n",
       "3                                  \"Tarleton's Quarter!\"   [38836]\n",
       "4                                                #MyLife  [286535]\n",
       "...                                                  ...       ...\n",
       "21427                                      曼荼羅 (Mandara)  [189218]\n",
       "21428                                   猿道 (Monkey Road)  [177572]\n",
       "21429          白と黒でトリテ (Trick-Taking in Black and White)  [335467]\n",
       "21430                            目撃者たちの夜 (Witness Night)  [308238]\n",
       "21431                    聖杯サクセション (Throne and the Grail)  [216497]\n",
       "\n",
       "[21432 rows x 2 columns]"
      ]
     },
     "execution_count": 101,
     "metadata": {},
     "output_type": "execute_result"
    }
   ],
   "source": [
    "pd.DataFrame({'id':list(result_dict.keys()), 'name':list(result_dict.values())})"
   ]
  },
  {
   "cell_type": "code",
   "execution_count": 223,
   "metadata": {},
   "outputs": [],
   "source": [
    "img_url = requests.get('http://127.0.0.1:5000/api?data-source=detailed-data&game-id='+str(30549)+'&content=image').text"
   ]
  },
  {
   "cell_type": "code",
   "execution_count": 218,
   "metadata": {},
   "outputs": [],
   "source": [
    "response = requests.get('https://cf.geekdo-images.com/S3ybV1LAp-8SnHIXLLjVqA__micro/img/S4tXI3Yo7BtqmBoKINLLVUFsaJ0=/fit-in/64x64/filters:strip_icc()/pic1534148.jpg')"
   ]
  },
  {
   "cell_type": "code",
   "execution_count": 220,
   "metadata": {},
   "outputs": [],
   "source": [
    "image = Image.open(BytesIO(response.content))"
   ]
  },
  {
   "cell_type": "code",
   "execution_count": 221,
   "metadata": {},
   "outputs": [],
   "source": [
    "new_image = image.resize((600,400))"
   ]
  },
  {
   "cell_type": "code",
   "execution_count": 222,
   "metadata": {},
   "outputs": [
    {
     "data": {
      "image/png": "[encoded data removed]",
      "text/plain": [
       "<PIL.Image.Image image mode=RGB size=600x400>"
      ]
     },
     "execution_count": 222,
     "metadata": {},
     "output_type": "execute_result"
    }
   ],
   "source": [
    "new_image"
   ]
  },
  {
   "cell_type": "code",
   "execution_count": null,
   "metadata": {},
   "outputs": [],
   "source": []
  },
  {
   "cell_type": "code",
   "execution_count": 107,
   "metadata": {},
   "outputs": [],
   "source": [
    "from PIL import Image\n",
    "from io import BytesIO"
   ]
  },
  {
   "cell_type": "code",
   "execution_count": 108,
   "metadata": {},
   "outputs": [
    {
     "data": {
      "image/png": "[encoded data removed]",
      "text/plain": [
       "<PIL.JpegImagePlugin.JpegImageFile image mode=RGB size=47x64>"
      ]
     },
     "execution_count": 108,
     "metadata": {},
     "output_type": "execute_result"
    }
   ],
   "source": [
    "Image.open(BytesIO(response.content))"
   ]
  },
  {
   "cell_type": "code",
   "execution_count": 112,
   "metadata": {},
   "outputs": [],
   "source": [
    "name_id_dict = requests.get('http://127.0.0.1:5000/name_id_dict?mode=name-id').json()"
   ]
  },
  {
   "cell_type": "code",
   "execution_count": 113,
   "metadata": {},
   "outputs": [],
   "source": [
    "name_list = list(name_id_dict.keys())"
   ]
  },
  {
   "cell_type": "code",
   "execution_count": 193,
   "metadata": {},
   "outputs": [],
   "source": [
    "id_list = requests.get('http://127.0.0.1:5000/game_list?mode=all').json()\n",
    "result_dict = dict()\n",
    "for id in id_list:\n",
    "    review_data = requests.get('http://127.0.0.1:5000/api?data-source=review-data-new&game-id='+str(id)+'&content=comment').json()\n",
    "    result_dict[id] = review_data\n"
   ]
  },
  {
   "cell_type": "code",
   "execution_count": 197,
   "metadata": {},
   "outputs": [
    {
     "data": {
      "text/plain": [
       "21631"
      ]
     },
     "execution_count": 197,
     "metadata": {},
     "output_type": "execute_result"
    }
   ],
   "source": [
    "len(result_dict)"
   ]
  },
  {
   "cell_type": "code",
   "execution_count": 174,
   "metadata": {},
   "outputs": [],
   "source": [
    "import warnings\n",
    "warnings.filterwarnings('ignore')"
   ]
  },
  {
   "cell_type": "code",
   "execution_count": 175,
   "metadata": {},
   "outputs": [],
   "source": [
    "input_df = pd.DataFrame()\n",
    "id_list = requests.get('http://127.0.0.1:5000/game_list?mode=all')\n",
    "id_list = id_list.json()\n",
    "for id in id_list:\n",
    "    detailed_game_data = requests.get('http://127.0.0.1:5000/api?data-source=detailed-data&game-id='+str(id)).json()\n",
    "    input_df = input_df.append(detailed_game_data, ignore_index=True)\n",
    "input_df = input_df[['primary','minplayers','maxplayers','playingtime','minage','boardgamecategory',\n",
    "                     'boardgamemechanic','boardgamefamily','bayesaverage','Board Game Rank','averageweight']]\n"
   ]
  },
  {
   "cell_type": "code",
   "execution_count": 177,
   "metadata": {},
   "outputs": [
    {
     "data": {
      "text/html": [
       "<div>\n",
       "<style scoped>\n",
       "    .dataframe tbody tr th:only-of-type {\n",
       "        vertical-align: middle;\n",
       "    }\n",
       "\n",
       "    .dataframe tbody tr th {\n",
       "        vertical-align: top;\n",
       "    }\n",
       "\n",
       "    .dataframe thead th {\n",
       "        text-align: right;\n",
       "    }\n",
       "</style>\n",
       "<table border=\"1\" class=\"dataframe\">\n",
       "  <thead>\n",
       "    <tr style=\"text-align: right;\">\n",
       "      <th></th>\n",
       "      <th>primary</th>\n",
       "      <th>minplayers</th>\n",
       "      <th>maxplayers</th>\n",
       "      <th>playingtime</th>\n",
       "      <th>minage</th>\n",
       "      <th>boardgamecategory</th>\n",
       "      <th>boardgamemechanic</th>\n",
       "      <th>boardgamefamily</th>\n",
       "      <th>bayesaverage</th>\n",
       "      <th>Board Game Rank</th>\n",
       "      <th>averageweight</th>\n",
       "    </tr>\n",
       "  </thead>\n",
       "  <tbody>\n",
       "    <tr>\n",
       "      <th>0</th>\n",
       "      <td>Pandemic</td>\n",
       "      <td>2</td>\n",
       "      <td>4</td>\n",
       "      <td>45</td>\n",
       "      <td>8</td>\n",
       "      <td>['Medical']</td>\n",
       "      <td>['Action Points', 'Cooperative Game', 'Hand Ma...</td>\n",
       "      <td>['Components: Map (Global Scale)', 'Components...</td>\n",
       "      <td>7.48669</td>\n",
       "      <td>106</td>\n",
       "      <td>2.4063</td>\n",
       "    </tr>\n",
       "    <tr>\n",
       "      <th>1</th>\n",
       "      <td>Carcassonne</td>\n",
       "      <td>2</td>\n",
       "      <td>5</td>\n",
       "      <td>45</td>\n",
       "      <td>7</td>\n",
       "      <td>['City Building', 'Medieval', 'Territory Build...</td>\n",
       "      <td>['Area Majority / Influence', 'Map Addition', ...</td>\n",
       "      <td>['Cities: Carcassonne (France)', 'Components: ...</td>\n",
       "      <td>7.30857</td>\n",
       "      <td>191</td>\n",
       "      <td>1.9057</td>\n",
       "    </tr>\n",
       "    <tr>\n",
       "      <th>2</th>\n",
       "      <td>Catan</td>\n",
       "      <td>3</td>\n",
       "      <td>4</td>\n",
       "      <td>120</td>\n",
       "      <td>10</td>\n",
       "      <td>['Economic', 'Negotiation']</td>\n",
       "      <td>['Dice Rolling', 'Hexagon Grid', 'Income', 'Mo...</td>\n",
       "      <td>['Animals: Sheep', 'Components: Hexagonal Tile...</td>\n",
       "      <td>6.96965</td>\n",
       "      <td>429</td>\n",
       "      <td>2.3130</td>\n",
       "    </tr>\n",
       "    <tr>\n",
       "      <th>3</th>\n",
       "      <td>7 Wonders</td>\n",
       "      <td>2</td>\n",
       "      <td>7</td>\n",
       "      <td>30</td>\n",
       "      <td>10</td>\n",
       "      <td>['Ancient', 'Card Game', 'City Building', 'Civ...</td>\n",
       "      <td>['Drafting', 'Hand Management', 'Set Collectio...</td>\n",
       "      <td>['Ancient: Babylon', 'Ancient: Egypt', 'Ancien...</td>\n",
       "      <td>7.63355</td>\n",
       "      <td>73</td>\n",
       "      <td>2.3264</td>\n",
       "    </tr>\n",
       "    <tr>\n",
       "      <th>4</th>\n",
       "      <td>Dominion</td>\n",
       "      <td>2</td>\n",
       "      <td>4</td>\n",
       "      <td>30</td>\n",
       "      <td>13</td>\n",
       "      <td>['Card Game', 'Medieval']</td>\n",
       "      <td>['Deck, Bag, and Pool Building', 'Delayed Purc...</td>\n",
       "      <td>['Crowdfunding: Wspieram', 'Game: Dominion', '...</td>\n",
       "      <td>7.49912</td>\n",
       "      <td>104</td>\n",
       "      <td>2.3542</td>\n",
       "    </tr>\n",
       "    <tr>\n",
       "      <th>...</th>\n",
       "      <td>...</td>\n",
       "      <td>...</td>\n",
       "      <td>...</td>\n",
       "      <td>...</td>\n",
       "      <td>...</td>\n",
       "      <td>...</td>\n",
       "      <td>...</td>\n",
       "      <td>...</td>\n",
       "      <td>...</td>\n",
       "      <td>...</td>\n",
       "      <td>...</td>\n",
       "    </tr>\n",
       "    <tr>\n",
       "      <th>21626</th>\n",
       "      <td>Sacred Rites</td>\n",
       "      <td>3</td>\n",
       "      <td>9</td>\n",
       "      <td>30</td>\n",
       "      <td>8</td>\n",
       "      <td>['Bluffing', 'Deduction', 'Humor', 'Party Game...</td>\n",
       "      <td>['Acting', 'Roles with Asymmetric Information'...</td>\n",
       "      <td></td>\n",
       "      <td>5.53114</td>\n",
       "      <td>12750</td>\n",
       "      <td>2.0000</td>\n",
       "    </tr>\n",
       "    <tr>\n",
       "      <th>21627</th>\n",
       "      <td>BABEL</td>\n",
       "      <td>1</td>\n",
       "      <td>5</td>\n",
       "      <td>30</td>\n",
       "      <td>10</td>\n",
       "      <td>['Action / Dexterity', 'Bluffing', 'Card Game'...</td>\n",
       "      <td>['Cooperative Game', 'Hand Management']</td>\n",
       "      <td>['Ancient: Babylon', 'Ancient: Mesopotamia']</td>\n",
       "      <td>5.51748</td>\n",
       "      <td>15017</td>\n",
       "      <td>0.0000</td>\n",
       "    </tr>\n",
       "    <tr>\n",
       "      <th>21628</th>\n",
       "      <td>Goldrush</td>\n",
       "      <td>2</td>\n",
       "      <td>4</td>\n",
       "      <td>60</td>\n",
       "      <td>10</td>\n",
       "      <td>['American West', 'Dice', 'Exploration', 'Figh...</td>\n",
       "      <td>['Dice Rolling', 'Memory', 'Pick-up and Delive...</td>\n",
       "      <td>['States: Arizona']</td>\n",
       "      <td>5.48821</td>\n",
       "      <td>19461</td>\n",
       "      <td>1.3333</td>\n",
       "    </tr>\n",
       "    <tr>\n",
       "      <th>21629</th>\n",
       "      <td>Bongo Kongo</td>\n",
       "      <td>2</td>\n",
       "      <td>4</td>\n",
       "      <td>10</td>\n",
       "      <td>5</td>\n",
       "      <td>['Action / Dexterity', 'Animals', \"Children's ...</td>\n",
       "      <td></td>\n",
       "      <td>['Animals: Apes / Monkeys', 'Components: Marbl...</td>\n",
       "      <td>5.50484</td>\n",
       "      <td>17262</td>\n",
       "      <td>1.2857</td>\n",
       "    </tr>\n",
       "    <tr>\n",
       "      <th>21630</th>\n",
       "      <td>Green Beret: Vietnam</td>\n",
       "      <td>1</td>\n",
       "      <td>1</td>\n",
       "      <td>0</td>\n",
       "      <td>0</td>\n",
       "      <td>['Modern Warfare', 'Vietnam War', 'Wargame']</td>\n",
       "      <td>['Dice Rolling', 'Hexagon Grid', 'Simulation',...</td>\n",
       "      <td>['Country: USA', 'Country: Vietnam', 'Magazine...</td>\n",
       "      <td>5.53097</td>\n",
       "      <td>12772</td>\n",
       "      <td>2.2000</td>\n",
       "    </tr>\n",
       "  </tbody>\n",
       "</table>\n",
       "<p>21631 rows × 11 columns</p>\n",
       "</div>"
      ],
      "text/plain": [
       "                    primary  minplayers  maxplayers  playingtime  minage  \\\n",
       "0                  Pandemic           2           4           45       8   \n",
       "1               Carcassonne           2           5           45       7   \n",
       "2                     Catan           3           4          120      10   \n",
       "3                 7 Wonders           2           7           30      10   \n",
       "4                  Dominion           2           4           30      13   \n",
       "...                     ...         ...         ...          ...     ...   \n",
       "21626          Sacred Rites           3           9           30       8   \n",
       "21627                 BABEL           1           5           30      10   \n",
       "21628              Goldrush           2           4           60      10   \n",
       "21629           Bongo Kongo           2           4           10       5   \n",
       "21630  Green Beret: Vietnam           1           1            0       0   \n",
       "\n",
       "                                       boardgamecategory  \\\n",
       "0                                            ['Medical']   \n",
       "1      ['City Building', 'Medieval', 'Territory Build...   \n",
       "2                            ['Economic', 'Negotiation']   \n",
       "3      ['Ancient', 'Card Game', 'City Building', 'Civ...   \n",
       "4                              ['Card Game', 'Medieval']   \n",
       "...                                                  ...   \n",
       "21626  ['Bluffing', 'Deduction', 'Humor', 'Party Game...   \n",
       "21627  ['Action / Dexterity', 'Bluffing', 'Card Game'...   \n",
       "21628  ['American West', 'Dice', 'Exploration', 'Figh...   \n",
       "21629  ['Action / Dexterity', 'Animals', \"Children's ...   \n",
       "21630       ['Modern Warfare', 'Vietnam War', 'Wargame']   \n",
       "\n",
       "                                       boardgamemechanic  \\\n",
       "0      ['Action Points', 'Cooperative Game', 'Hand Ma...   \n",
       "1      ['Area Majority / Influence', 'Map Addition', ...   \n",
       "2      ['Dice Rolling', 'Hexagon Grid', 'Income', 'Mo...   \n",
       "3      ['Drafting', 'Hand Management', 'Set Collectio...   \n",
       "4      ['Deck, Bag, and Pool Building', 'Delayed Purc...   \n",
       "...                                                  ...   \n",
       "21626  ['Acting', 'Roles with Asymmetric Information'...   \n",
       "21627            ['Cooperative Game', 'Hand Management']   \n",
       "21628  ['Dice Rolling', 'Memory', 'Pick-up and Delive...   \n",
       "21629                                                      \n",
       "21630  ['Dice Rolling', 'Hexagon Grid', 'Simulation',...   \n",
       "\n",
       "                                         boardgamefamily  bayesaverage  \\\n",
       "0      ['Components: Map (Global Scale)', 'Components...       7.48669   \n",
       "1      ['Cities: Carcassonne (France)', 'Components: ...       7.30857   \n",
       "2      ['Animals: Sheep', 'Components: Hexagonal Tile...       6.96965   \n",
       "3      ['Ancient: Babylon', 'Ancient: Egypt', 'Ancien...       7.63355   \n",
       "4      ['Crowdfunding: Wspieram', 'Game: Dominion', '...       7.49912   \n",
       "...                                                  ...           ...   \n",
       "21626                                                          5.53114   \n",
       "21627       ['Ancient: Babylon', 'Ancient: Mesopotamia']       5.51748   \n",
       "21628                                ['States: Arizona']       5.48821   \n",
       "21629  ['Animals: Apes / Monkeys', 'Components: Marbl...       5.50484   \n",
       "21630  ['Country: USA', 'Country: Vietnam', 'Magazine...       5.53097   \n",
       "\n",
       "      Board Game Rank  averageweight  \n",
       "0                 106         2.4063  \n",
       "1                 191         1.9057  \n",
       "2                 429         2.3130  \n",
       "3                  73         2.3264  \n",
       "4                 104         2.3542  \n",
       "...               ...            ...  \n",
       "21626           12750         2.0000  \n",
       "21627           15017         0.0000  \n",
       "21628           19461         1.3333  \n",
       "21629           17262         1.2857  \n",
       "21630           12772         2.2000  \n",
       "\n",
       "[21631 rows x 11 columns]"
      ]
     },
     "execution_count": 177,
     "metadata": {},
     "output_type": "execute_result"
    }
   ],
   "source": [
    "input_df"
   ]
  },
  {
   "cell_type": "code",
   "execution_count": 181,
   "metadata": {},
   "outputs": [],
   "source": [
    "# input_df = pd.DataFrame()\n",
    "id_list = requests.get('http://127.0.0.1:5000/game_list?mode=all')\n",
    "id_list = id_list.json()\n",
    "row_list = []\n",
    "for id in id_list:\n",
    "    detailed_game_data = requests.get('http://127.0.0.1:5000/api?data-source=detailed-data&game-id='+str(id)).json()\n",
    "    row_list.append(detailed_game_data)\n",
    "input_df = pd.DataFrame(row_list)\n",
    "input_df = input_df[['primary','minplayers','maxplayers','playingtime','minage','boardgamecategory',\n",
    "                     'boardgamemechanic','boardgamefamily','bayesaverage','Board Game Rank','averageweight']]\n"
   ]
  },
  {
   "cell_type": "code",
   "execution_count": 183,
   "metadata": {},
   "outputs": [
    {
     "data": {
      "text/html": [
       "<div>\n",
       "<style scoped>\n",
       "    .dataframe tbody tr th:only-of-type {\n",
       "        vertical-align: middle;\n",
       "    }\n",
       "\n",
       "    .dataframe tbody tr th {\n",
       "        vertical-align: top;\n",
       "    }\n",
       "\n",
       "    .dataframe thead th {\n",
       "        text-align: right;\n",
       "    }\n",
       "</style>\n",
       "<table border=\"1\" class=\"dataframe\">\n",
       "  <thead>\n",
       "    <tr style=\"text-align: right;\">\n",
       "      <th></th>\n",
       "      <th>primary</th>\n",
       "      <th>minplayers</th>\n",
       "      <th>maxplayers</th>\n",
       "      <th>playingtime</th>\n",
       "      <th>minage</th>\n",
       "      <th>boardgamecategory</th>\n",
       "      <th>boardgamemechanic</th>\n",
       "      <th>boardgamefamily</th>\n",
       "      <th>bayesaverage</th>\n",
       "      <th>Board Game Rank</th>\n",
       "      <th>averageweight</th>\n",
       "    </tr>\n",
       "  </thead>\n",
       "  <tbody>\n",
       "    <tr>\n",
       "      <th>0</th>\n",
       "      <td>Pandemic</td>\n",
       "      <td>2</td>\n",
       "      <td>4</td>\n",
       "      <td>45</td>\n",
       "      <td>8</td>\n",
       "      <td>['Medical']</td>\n",
       "      <td>['Action Points', 'Cooperative Game', 'Hand Ma...</td>\n",
       "      <td>['Components: Map (Global Scale)', 'Components...</td>\n",
       "      <td>7.48669</td>\n",
       "      <td>106</td>\n",
       "      <td>2.4063</td>\n",
       "    </tr>\n",
       "    <tr>\n",
       "      <th>1</th>\n",
       "      <td>Carcassonne</td>\n",
       "      <td>2</td>\n",
       "      <td>5</td>\n",
       "      <td>45</td>\n",
       "      <td>7</td>\n",
       "      <td>['City Building', 'Medieval', 'Territory Build...</td>\n",
       "      <td>['Area Majority / Influence', 'Map Addition', ...</td>\n",
       "      <td>['Cities: Carcassonne (France)', 'Components: ...</td>\n",
       "      <td>7.30857</td>\n",
       "      <td>191</td>\n",
       "      <td>1.9057</td>\n",
       "    </tr>\n",
       "    <tr>\n",
       "      <th>2</th>\n",
       "      <td>Catan</td>\n",
       "      <td>3</td>\n",
       "      <td>4</td>\n",
       "      <td>120</td>\n",
       "      <td>10</td>\n",
       "      <td>['Economic', 'Negotiation']</td>\n",
       "      <td>['Dice Rolling', 'Hexagon Grid', 'Income', 'Mo...</td>\n",
       "      <td>['Animals: Sheep', 'Components: Hexagonal Tile...</td>\n",
       "      <td>6.96965</td>\n",
       "      <td>429</td>\n",
       "      <td>2.3130</td>\n",
       "    </tr>\n",
       "    <tr>\n",
       "      <th>3</th>\n",
       "      <td>7 Wonders</td>\n",
       "      <td>2</td>\n",
       "      <td>7</td>\n",
       "      <td>30</td>\n",
       "      <td>10</td>\n",
       "      <td>['Ancient', 'Card Game', 'City Building', 'Civ...</td>\n",
       "      <td>['Drafting', 'Hand Management', 'Set Collectio...</td>\n",
       "      <td>['Ancient: Babylon', 'Ancient: Egypt', 'Ancien...</td>\n",
       "      <td>7.63355</td>\n",
       "      <td>73</td>\n",
       "      <td>2.3264</td>\n",
       "    </tr>\n",
       "    <tr>\n",
       "      <th>4</th>\n",
       "      <td>Dominion</td>\n",
       "      <td>2</td>\n",
       "      <td>4</td>\n",
       "      <td>30</td>\n",
       "      <td>13</td>\n",
       "      <td>['Card Game', 'Medieval']</td>\n",
       "      <td>['Deck, Bag, and Pool Building', 'Delayed Purc...</td>\n",
       "      <td>['Crowdfunding: Wspieram', 'Game: Dominion', '...</td>\n",
       "      <td>7.49912</td>\n",
       "      <td>104</td>\n",
       "      <td>2.3542</td>\n",
       "    </tr>\n",
       "    <tr>\n",
       "      <th>...</th>\n",
       "      <td>...</td>\n",
       "      <td>...</td>\n",
       "      <td>...</td>\n",
       "      <td>...</td>\n",
       "      <td>...</td>\n",
       "      <td>...</td>\n",
       "      <td>...</td>\n",
       "      <td>...</td>\n",
       "      <td>...</td>\n",
       "      <td>...</td>\n",
       "      <td>...</td>\n",
       "    </tr>\n",
       "    <tr>\n",
       "      <th>21626</th>\n",
       "      <td>Sacred Rites</td>\n",
       "      <td>3</td>\n",
       "      <td>9</td>\n",
       "      <td>30</td>\n",
       "      <td>8</td>\n",
       "      <td>['Bluffing', 'Deduction', 'Humor', 'Party Game...</td>\n",
       "      <td>['Acting', 'Roles with Asymmetric Information'...</td>\n",
       "      <td></td>\n",
       "      <td>5.53114</td>\n",
       "      <td>12750</td>\n",
       "      <td>2.0000</td>\n",
       "    </tr>\n",
       "    <tr>\n",
       "      <th>21627</th>\n",
       "      <td>BABEL</td>\n",
       "      <td>1</td>\n",
       "      <td>5</td>\n",
       "      <td>30</td>\n",
       "      <td>10</td>\n",
       "      <td>['Action / Dexterity', 'Bluffing', 'Card Game'...</td>\n",
       "      <td>['Cooperative Game', 'Hand Management']</td>\n",
       "      <td>['Ancient: Babylon', 'Ancient: Mesopotamia']</td>\n",
       "      <td>5.51748</td>\n",
       "      <td>15017</td>\n",
       "      <td>0.0000</td>\n",
       "    </tr>\n",
       "    <tr>\n",
       "      <th>21628</th>\n",
       "      <td>Goldrush</td>\n",
       "      <td>2</td>\n",
       "      <td>4</td>\n",
       "      <td>60</td>\n",
       "      <td>10</td>\n",
       "      <td>['American West', 'Dice', 'Exploration', 'Figh...</td>\n",
       "      <td>['Dice Rolling', 'Memory', 'Pick-up and Delive...</td>\n",
       "      <td>['States: Arizona']</td>\n",
       "      <td>5.48821</td>\n",
       "      <td>19461</td>\n",
       "      <td>1.3333</td>\n",
       "    </tr>\n",
       "    <tr>\n",
       "      <th>21629</th>\n",
       "      <td>Bongo Kongo</td>\n",
       "      <td>2</td>\n",
       "      <td>4</td>\n",
       "      <td>10</td>\n",
       "      <td>5</td>\n",
       "      <td>['Action / Dexterity', 'Animals', \"Children's ...</td>\n",
       "      <td></td>\n",
       "      <td>['Animals: Apes / Monkeys', 'Components: Marbl...</td>\n",
       "      <td>5.50484</td>\n",
       "      <td>17262</td>\n",
       "      <td>1.2857</td>\n",
       "    </tr>\n",
       "    <tr>\n",
       "      <th>21630</th>\n",
       "      <td>Green Beret: Vietnam</td>\n",
       "      <td>1</td>\n",
       "      <td>1</td>\n",
       "      <td>0</td>\n",
       "      <td>0</td>\n",
       "      <td>['Modern Warfare', 'Vietnam War', 'Wargame']</td>\n",
       "      <td>['Dice Rolling', 'Hexagon Grid', 'Simulation',...</td>\n",
       "      <td>['Country: USA', 'Country: Vietnam', 'Magazine...</td>\n",
       "      <td>5.53097</td>\n",
       "      <td>12772</td>\n",
       "      <td>2.2000</td>\n",
       "    </tr>\n",
       "  </tbody>\n",
       "</table>\n",
       "<p>21631 rows × 11 columns</p>\n",
       "</div>"
      ],
      "text/plain": [
       "                    primary  minplayers  maxplayers  playingtime  minage  \\\n",
       "0                  Pandemic           2           4           45       8   \n",
       "1               Carcassonne           2           5           45       7   \n",
       "2                     Catan           3           4          120      10   \n",
       "3                 7 Wonders           2           7           30      10   \n",
       "4                  Dominion           2           4           30      13   \n",
       "...                     ...         ...         ...          ...     ...   \n",
       "21626          Sacred Rites           3           9           30       8   \n",
       "21627                 BABEL           1           5           30      10   \n",
       "21628              Goldrush           2           4           60      10   \n",
       "21629           Bongo Kongo           2           4           10       5   \n",
       "21630  Green Beret: Vietnam           1           1            0       0   \n",
       "\n",
       "                                       boardgamecategory  \\\n",
       "0                                            ['Medical']   \n",
       "1      ['City Building', 'Medieval', 'Territory Build...   \n",
       "2                            ['Economic', 'Negotiation']   \n",
       "3      ['Ancient', 'Card Game', 'City Building', 'Civ...   \n",
       "4                              ['Card Game', 'Medieval']   \n",
       "...                                                  ...   \n",
       "21626  ['Bluffing', 'Deduction', 'Humor', 'Party Game...   \n",
       "21627  ['Action / Dexterity', 'Bluffing', 'Card Game'...   \n",
       "21628  ['American West', 'Dice', 'Exploration', 'Figh...   \n",
       "21629  ['Action / Dexterity', 'Animals', \"Children's ...   \n",
       "21630       ['Modern Warfare', 'Vietnam War', 'Wargame']   \n",
       "\n",
       "                                       boardgamemechanic  \\\n",
       "0      ['Action Points', 'Cooperative Game', 'Hand Ma...   \n",
       "1      ['Area Majority / Influence', 'Map Addition', ...   \n",
       "2      ['Dice Rolling', 'Hexagon Grid', 'Income', 'Mo...   \n",
       "3      ['Drafting', 'Hand Management', 'Set Collectio...   \n",
       "4      ['Deck, Bag, and Pool Building', 'Delayed Purc...   \n",
       "...                                                  ...   \n",
       "21626  ['Acting', 'Roles with Asymmetric Information'...   \n",
       "21627            ['Cooperative Game', 'Hand Management']   \n",
       "21628  ['Dice Rolling', 'Memory', 'Pick-up and Delive...   \n",
       "21629                                                      \n",
       "21630  ['Dice Rolling', 'Hexagon Grid', 'Simulation',...   \n",
       "\n",
       "                                         boardgamefamily  bayesaverage  \\\n",
       "0      ['Components: Map (Global Scale)', 'Components...       7.48669   \n",
       "1      ['Cities: Carcassonne (France)', 'Components: ...       7.30857   \n",
       "2      ['Animals: Sheep', 'Components: Hexagonal Tile...       6.96965   \n",
       "3      ['Ancient: Babylon', 'Ancient: Egypt', 'Ancien...       7.63355   \n",
       "4      ['Crowdfunding: Wspieram', 'Game: Dominion', '...       7.49912   \n",
       "...                                                  ...           ...   \n",
       "21626                                                          5.53114   \n",
       "21627       ['Ancient: Babylon', 'Ancient: Mesopotamia']       5.51748   \n",
       "21628                                ['States: Arizona']       5.48821   \n",
       "21629  ['Animals: Apes / Monkeys', 'Components: Marbl...       5.50484   \n",
       "21630  ['Country: USA', 'Country: Vietnam', 'Magazine...       5.53097   \n",
       "\n",
       "      Board Game Rank  averageweight  \n",
       "0                 106         2.4063  \n",
       "1                 191         1.9057  \n",
       "2                 429         2.3130  \n",
       "3                  73         2.3264  \n",
       "4                 104         2.3542  \n",
       "...               ...            ...  \n",
       "21626           12750         2.0000  \n",
       "21627           15017         0.0000  \n",
       "21628           19461         1.3333  \n",
       "21629           17262         1.2857  \n",
       "21630           12772         2.2000  \n",
       "\n",
       "[21631 rows x 11 columns]"
      ]
     },
     "execution_count": 183,
     "metadata": {},
     "output_type": "execute_result"
    }
   ],
   "source": [
    "input_df"
   ]
  },
  {
   "cell_type": "code",
   "execution_count": null,
   "metadata": {},
   "outputs": [],
   "source": []
  }
 ],
 "metadata": {
  "kernelspec": {
   "display_name": "Python 3.9.0 ('boardgame_recommendation_system-f-GT0dhu')",
   "language": "python",
   "name": "python3"
  },
  "language_info": {
   "codemirror_mode": {
    "name": "ipython",
    "version": 3
   },
   "file_extension": ".py",
   "mimetype": "text/x-python",
   "name": "python",
   "nbconvert_exporter": "python",
   "pygments_lexer": "ipython3",
   "version": "3.9.0"
  },
  "orig_nbformat": 4,
  "vscode": {
   "interpreter": {
    "hash": "a689e233487780c216d79ada2fa05ce2bc1cdcddb7bfa81c4b9404f45cb92825"
   }
  }
 },
 "nbformat": 4,
 "nbformat_minor": 2
}
